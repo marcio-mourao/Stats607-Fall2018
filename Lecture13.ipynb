{
 "cells": [
  {
   "cell_type": "markdown",
   "metadata": {
    "nbpresent": {
     "id": "f77e2465-07f3-4ad0-ab0b-970cc19da161"
    }
   },
   "source": [
    "# <center> STATS 607 - LECTURE 13\n",
    "## <center> 10/22/2018"
   ]
  },
  {
   "cell_type": "markdown",
   "metadata": {},
   "source": [
    "## Testing"
   ]
  },
  {
   "cell_type": "markdown",
   "metadata": {},
   "source": [
    "You cannot scape it! If there is something that you'll always have to do while developing a computer program is to test the program. There are many ways you can do it and strategies have been developed for this very same purpose. Here, we'll talk a little about some of this strategies. Some of you have already used this in your assignments, but we'll start with assertions:"
   ]
  },
  {
   "cell_type": "markdown",
   "metadata": {},
   "source": [
    "<ul>\n",
    "    <li>An assertion is simply a statement that something holds true at a particular point in a program. Assertions can be used to ensure that inputs are valid, outputs are consistent, and so on.</li><br/>\n",
    "    <li>The approach based on asserting input/output values is sometimes called *programming by contract*.</li>\n",
    "    <br/>\n",
    "    <ul>\n",
    "        <li>First, they ensure that if something does go wrong, the program will halt immediately, which simplifies debugging.</li><br/>\n",
    "        <li>Second, assertions are executable documentation, i.e., they explain the program as well as checking its behavior. This makes them more useful in many cases than comments since the reader can be sure that they are accurate and up to date.</li><br/>\n",
    "    </ul>\n",
    "</ul>"
   ]
  },
  {
   "cell_type": "markdown",
   "metadata": {},
   "source": [
    "### Example:"
   ]
  },
  {
   "cell_type": "code",
   "execution_count": 1,
   "metadata": {},
   "outputs": [],
   "source": [
    "class MyDB:\n",
    "    def __init__(self):\n",
    "        \"\"\"\"\"\"\n",
    "        self._id2name_map = {}\n",
    "        self._name2id_map = {}\n",
    " \n",
    "    def add(self, id, name):\n",
    "        \"\"\"\"\"\"\n",
    "        self._name2id_map[name] = id\n",
    "        self._id2name_map[id] = name\n",
    " \n",
    "    def get_id_by_name(self, name):\n",
    "        \"\"\"\"\"\"\n",
    "        return self._name2id_map[name]\n",
    "            \n",
    "    def print_id2name_map(self):\n",
    "        \"\"\"\"\"\"\n",
    "        for i,j in self._id2name_map.items():\n",
    "            print(i,j)\n",
    "            \n",
    "    def print_name2id_map(self):\n",
    "        \"\"\"\"\"\"\n",
    "        for i,j in self._name2id_map.items():\n",
    "            print(i,j)"
   ]
  },
  {
   "cell_type": "markdown",
   "metadata": {},
   "source": [
    "Lets create an instance of MyDB, so then to attempt to add a couple of key, values:"
   ]
  },
  {
   "cell_type": "code",
   "execution_count": 2,
   "metadata": {},
   "outputs": [],
   "source": [
    "inst = MyDB() # Creates an instance of MyDB."
   ]
  },
  {
   "cell_type": "code",
   "execution_count": 3,
   "metadata": {},
   "outputs": [],
   "source": [
    "inst.add(1,1000) \n",
    "inst.add(1,'Name2')"
   ]
  },
  {
   "cell_type": "markdown",
   "metadata": {},
   "source": [
    "Lets see what we have there:"
   ]
  },
  {
   "cell_type": "code",
   "execution_count": 4,
   "metadata": {},
   "outputs": [
    {
     "name": "stdout",
     "output_type": "stream",
     "text": [
      "1 Name2\n"
     ]
    }
   ],
   "source": [
    "inst.print_id2name_map()"
   ]
  },
  {
   "cell_type": "code",
   "execution_count": 5,
   "metadata": {},
   "outputs": [
    {
     "name": "stdout",
     "output_type": "stream",
     "text": [
      "1000 1\n",
      "Name2 1\n"
     ]
    }
   ],
   "source": [
    "inst.print_name2id_map()"
   ]
  },
  {
   "cell_type": "code",
   "execution_count": 6,
   "metadata": {},
   "outputs": [
    {
     "data": {
      "text/plain": [
       "1"
      ]
     },
     "execution_count": 6,
     "metadata": {},
     "output_type": "execute_result"
    }
   ],
   "source": [
    "inst.get_id_by_name(1000)"
   ]
  },
  {
   "cell_type": "markdown",
   "metadata": {},
   "source": [
    "There are a couple of problems with the above. Can you identify it? Lets rewrite MyDB in a way that 'partially solves' those problems:"
   ]
  },
  {
   "cell_type": "code",
   "execution_count": 7,
   "metadata": {},
   "outputs": [],
   "source": [
    "class MyDB:\n",
    "    def __init__(self):\n",
    "        \"\"\"\"\"\"\n",
    "        self._id2name_map = {}\n",
    "        self._name2id_map = {}\n",
    " \n",
    "    def add(self, id, name):\n",
    "        \"\"\"\"\"\"\n",
    "        assert isinstance(id,int), \"id is not an integer: %r\" % id\n",
    "        assert isinstance(name,str), \"name is not a string: %r\" % name\n",
    "        self._name2id_map[name] = id\n",
    "        self._id2name_map[id] = name\n",
    "        \n",
    "    def get_id_by_name(self, name):\n",
    "        \"\"\"\"\"\"\n",
    "        id = self._name2id_map[name]\n",
    "        assert self._id2name_map[id] == name, 'Problem!'\n",
    "        return id\n",
    "    \n",
    "    def print_id2name_map(self):\n",
    "        \"\"\"\"\"\"\n",
    "        for i,j in self._id2name_map.items():\n",
    "            print(i,j)\n",
    "            \n",
    "    def print_name2id_map(self):\n",
    "        \"\"\"\"\"\"\n",
    "        for i,j in self._name2id_map.items():\n",
    "            print(i,j)"
   ]
  },
  {
   "cell_type": "code",
   "execution_count": 8,
   "metadata": {},
   "outputs": [
    {
     "ename": "AssertionError",
     "evalue": "name is not a string: 1000",
     "output_type": "error",
     "traceback": [
      "\u001b[0;31m---------------------------------------------------------------------------\u001b[0m",
      "\u001b[0;31mAssertionError\u001b[0m                            Traceback (most recent call last)",
      "\u001b[0;32m<ipython-input-8-d5daad6d4208>\u001b[0m in \u001b[0;36m<module>\u001b[0;34m()\u001b[0m\n\u001b[1;32m      1\u001b[0m \u001b[0minst\u001b[0m \u001b[0;34m=\u001b[0m \u001b[0mMyDB\u001b[0m\u001b[0;34m(\u001b[0m\u001b[0;34m)\u001b[0m\u001b[0;34m\u001b[0m\u001b[0m\n\u001b[0;32m----> 2\u001b[0;31m \u001b[0minst\u001b[0m\u001b[0;34m.\u001b[0m\u001b[0madd\u001b[0m\u001b[0;34m(\u001b[0m\u001b[0;36m1\u001b[0m\u001b[0;34m,\u001b[0m\u001b[0;36m1000\u001b[0m\u001b[0;34m)\u001b[0m \u001b[0;31m# This should now give an assertion error.\u001b[0m\u001b[0;34m\u001b[0m\u001b[0m\n\u001b[0m\u001b[1;32m      3\u001b[0m \u001b[0minst\u001b[0m\u001b[0;34m.\u001b[0m\u001b[0madd\u001b[0m\u001b[0;34m(\u001b[0m\u001b[0;36m1\u001b[0m\u001b[0;34m,\u001b[0m\u001b[0;34m'Name2'\u001b[0m\u001b[0;34m)\u001b[0m\u001b[0;34m\u001b[0m\u001b[0m\n",
      "\u001b[0;32m<ipython-input-7-b11f633e31a9>\u001b[0m in \u001b[0;36madd\u001b[0;34m(self, id, name)\u001b[0m\n\u001b[1;32m      8\u001b[0m         \u001b[0;34m\"\"\"\"\"\"\u001b[0m\u001b[0;34m\u001b[0m\u001b[0m\n\u001b[1;32m      9\u001b[0m         \u001b[0;32massert\u001b[0m \u001b[0misinstance\u001b[0m\u001b[0;34m(\u001b[0m\u001b[0mid\u001b[0m\u001b[0;34m,\u001b[0m\u001b[0mint\u001b[0m\u001b[0;34m)\u001b[0m\u001b[0;34m,\u001b[0m \u001b[0;34m\"id is not an integer: %r\"\u001b[0m \u001b[0;34m%\u001b[0m \u001b[0mid\u001b[0m\u001b[0;34m\u001b[0m\u001b[0m\n\u001b[0;32m---> 10\u001b[0;31m         \u001b[0;32massert\u001b[0m \u001b[0misinstance\u001b[0m\u001b[0;34m(\u001b[0m\u001b[0mname\u001b[0m\u001b[0;34m,\u001b[0m\u001b[0mstr\u001b[0m\u001b[0;34m)\u001b[0m\u001b[0;34m,\u001b[0m \u001b[0;34m\"name is not a string: %r\"\u001b[0m \u001b[0;34m%\u001b[0m \u001b[0mname\u001b[0m\u001b[0;34m\u001b[0m\u001b[0m\n\u001b[0m\u001b[1;32m     11\u001b[0m         \u001b[0mself\u001b[0m\u001b[0;34m.\u001b[0m\u001b[0m_name2id_map\u001b[0m\u001b[0;34m[\u001b[0m\u001b[0mname\u001b[0m\u001b[0;34m]\u001b[0m \u001b[0;34m=\u001b[0m \u001b[0mid\u001b[0m\u001b[0;34m\u001b[0m\u001b[0m\n\u001b[1;32m     12\u001b[0m         \u001b[0mself\u001b[0m\u001b[0;34m.\u001b[0m\u001b[0m_id2name_map\u001b[0m\u001b[0;34m[\u001b[0m\u001b[0mid\u001b[0m\u001b[0;34m]\u001b[0m \u001b[0;34m=\u001b[0m \u001b[0mname\u001b[0m\u001b[0;34m\u001b[0m\u001b[0m\n",
      "\u001b[0;31mAssertionError\u001b[0m: name is not a string: 1000"
     ]
    }
   ],
   "source": [
    "inst = MyDB()\n",
    "inst.add(1,1000) # This should now give an assertion error.\n",
    "inst.add(1,'Name2')"
   ]
  },
  {
   "cell_type": "code",
   "execution_count": 9,
   "metadata": {},
   "outputs": [],
   "source": [
    "inst = MyDB()\n",
    "inst.add(1,'Name1')\n",
    "inst.add(1,'Name2')"
   ]
  },
  {
   "cell_type": "code",
   "execution_count": 10,
   "metadata": {},
   "outputs": [
    {
     "ename": "AssertionError",
     "evalue": "Problem!",
     "output_type": "error",
     "traceback": [
      "\u001b[0;31m---------------------------------------------------------------------------\u001b[0m",
      "\u001b[0;31mAssertionError\u001b[0m                            Traceback (most recent call last)",
      "\u001b[0;32m<ipython-input-10-0785fefd673b>\u001b[0m in \u001b[0;36m<module>\u001b[0;34m()\u001b[0m\n\u001b[0;32m----> 1\u001b[0;31m \u001b[0minst\u001b[0m\u001b[0;34m.\u001b[0m\u001b[0mget_id_by_name\u001b[0m\u001b[0;34m(\u001b[0m\u001b[0;34m'Name1'\u001b[0m\u001b[0;34m)\u001b[0m \u001b[0;31m# Problem: there is no 1 associated with Name1.\u001b[0m\u001b[0;34m\u001b[0m\u001b[0m\n\u001b[0m",
      "\u001b[0;32m<ipython-input-7-b11f633e31a9>\u001b[0m in \u001b[0;36mget_id_by_name\u001b[0;34m(self, name)\u001b[0m\n\u001b[1;32m     15\u001b[0m         \u001b[0;34m\"\"\"\"\"\"\u001b[0m\u001b[0;34m\u001b[0m\u001b[0m\n\u001b[1;32m     16\u001b[0m         \u001b[0mid\u001b[0m \u001b[0;34m=\u001b[0m \u001b[0mself\u001b[0m\u001b[0;34m.\u001b[0m\u001b[0m_name2id_map\u001b[0m\u001b[0;34m[\u001b[0m\u001b[0mname\u001b[0m\u001b[0;34m]\u001b[0m\u001b[0;34m\u001b[0m\u001b[0m\n\u001b[0;32m---> 17\u001b[0;31m         \u001b[0;32massert\u001b[0m \u001b[0mself\u001b[0m\u001b[0;34m.\u001b[0m\u001b[0m_id2name_map\u001b[0m\u001b[0;34m[\u001b[0m\u001b[0mid\u001b[0m\u001b[0;34m]\u001b[0m \u001b[0;34m==\u001b[0m \u001b[0mname\u001b[0m\u001b[0;34m,\u001b[0m \u001b[0;34m'Problem!'\u001b[0m\u001b[0;34m\u001b[0m\u001b[0m\n\u001b[0m\u001b[1;32m     18\u001b[0m         \u001b[0;32mreturn\u001b[0m \u001b[0mid\u001b[0m\u001b[0;34m\u001b[0m\u001b[0m\n\u001b[1;32m     19\u001b[0m \u001b[0;34m\u001b[0m\u001b[0m\n",
      "\u001b[0;31mAssertionError\u001b[0m: Problem!"
     ]
    }
   ],
   "source": [
    "inst.get_id_by_name('Name1') # Problem: there is no 1 associated with Name1."
   ]
  },
  {
   "cell_type": "code",
   "execution_count": 11,
   "metadata": {},
   "outputs": [],
   "source": [
    "inst = MyDB()\n",
    "inst.add(1,'Name1')\n",
    "inst.add(2,'Name2')"
   ]
  },
  {
   "cell_type": "code",
   "execution_count": 12,
   "metadata": {},
   "outputs": [
    {
     "data": {
      "text/plain": [
       "1"
      ]
     },
     "execution_count": 12,
     "metadata": {},
     "output_type": "execute_result"
    }
   ],
   "source": [
    "inst.get_id_by_name('Name1')"
   ]
  },
  {
   "cell_type": "code",
   "execution_count": 13,
   "metadata": {},
   "outputs": [
    {
     "data": {
      "text/plain": [
       "2"
      ]
     },
     "execution_count": 13,
     "metadata": {},
     "output_type": "execute_result"
    }
   ],
   "source": [
    "inst.get_id_by_name('Name2')"
   ]
  },
  {
   "cell_type": "markdown",
   "metadata": {},
   "source": [
    "Fixing bugs that have been identified is often easier if you use a symbolic debugger to track them down. The module pdb defines an interactive source code debugger for Python programs. It supports setting (conditional) breakpoints and single stepping at the source line level, inspection of stack frames, source code listing, and evaluation of arbitrary Python code in the context of any stack frame. Lets see an example of this:"
   ]
  },
  {
   "cell_type": "code",
   "execution_count": 14,
   "metadata": {},
   "outputs": [],
   "source": [
    "import pdb;\n",
    "\n",
    "def add_to_life_universe_everything(x):\n",
    "    \"\"\"\n",
    "    \"\"\"\n",
    "    answer = 42\n",
    "    pdb.set_trace()\n",
    "    answer += x\n",
    "    \n",
    "    return answer"
   ]
  },
  {
   "cell_type": "code",
   "execution_count": 15,
   "metadata": {},
   "outputs": [
    {
     "name": "stdout",
     "output_type": "stream",
     "text": [
      "> <ipython-input-14-01ffaed4a817>(8)add_to_life_universe_everything()\n",
      "-> answer += x\n",
      "(Pdb) answer\n",
      "42\n",
      "(Pdb) next\n",
      "> <ipython-input-14-01ffaed4a817>(10)add_to_life_universe_everything()\n",
      "-> return answer\n",
      "(Pdb) answer\n",
      "54\n",
      "(Pdb) next\n",
      "--Return--\n",
      "> <ipython-input-14-01ffaed4a817>(10)add_to_life_universe_everything()->54\n",
      "-> return answer\n",
      "(Pdb) continue\n"
     ]
    },
    {
     "data": {
      "text/plain": [
       "54"
      ]
     },
     "execution_count": 15,
     "metadata": {},
     "output_type": "execute_result"
    }
   ],
   "source": [
    "add_to_life_universe_everything(12)"
   ]
  },
  {
   "cell_type": "markdown",
   "metadata": {},
   "source": [
    "### Run automated tests"
   ]
  },
  {
   "cell_type": "markdown",
   "metadata": {},
   "source": [
    "  <ul>\n",
    "      <li>Ensure a single unit of code returns the correct results (unit tests), that pieces of code work correctly when combined (integration tests).</li><br/>\n",
    "      <li>Creating and managing tests is easier if programmers use an off-the-shelf unit testing library to initialize inputs, run tests, and report their results in a uniform way.</li><br/>\n",
    "      <li>One way of generating tests is to check to see whether the code matches the researcher's expectations of its behavior.</li><br/>\n",
    "      <li>Another approach for generating tests is to turn bugs into test cases by writing tests that trigger a bug that has been found in the code.</li><br/>\n",
    "      <li>Finally, there is a whole approach called **Test-Driven Development** </li>\n",
    "  </ul>"
   ]
  },
  {
   "cell_type": "code",
   "execution_count": 16,
   "metadata": {},
   "outputs": [
    {
     "data": {
      "text/plain": [
       "Counter({'bar': 1, 'foo': 2})"
      ]
     },
     "execution_count": 16,
     "metadata": {},
     "output_type": "execute_result"
    }
   ],
   "source": [
    "from collections import Counter\n",
    "\n",
    "Counter(str.split('foo bar foo  ')) # Generates a word frequency dictionary."
   ]
  },
  {
   "cell_type": "code",
   "execution_count": 17,
   "metadata": {},
   "outputs": [],
   "source": [
    "from unittest import TestCase"
   ]
  },
  {
   "cell_type": "code",
   "execution_count": 18,
   "metadata": {},
   "outputs": [],
   "source": [
    "class TestUnit(TestCase): # TestUnit inherits from TestCase\n",
    "    def test_wordcount(self):\n",
    "        self.assertDictEqual({'foo' : 1, 'bar' : 1}, Counter(str.split('foo bar foo  '))) # This two need to be equal."
   ]
  },
  {
   "cell_type": "markdown",
   "metadata": {},
   "source": [
    "Why do we have an error with the code below?"
   ]
  },
  {
   "cell_type": "code",
   "execution_count": 19,
   "metadata": {},
   "outputs": [
    {
     "ename": "AssertionError",
     "evalue": "{'foo': 1, 'bar': 1} != Counter({'foo': 2, 'bar': 1})\n- {'bar': 1, 'foo': 1}\n+ Counter({'foo': 2, 'bar': 1})",
     "output_type": "error",
     "traceback": [
      "\u001b[0;31m---------------------------------------------------------------------------\u001b[0m",
      "\u001b[0;31mAssertionError\u001b[0m                            Traceback (most recent call last)",
      "\u001b[0;32m<ipython-input-19-ff681fd88145>\u001b[0m in \u001b[0;36m<module>\u001b[0;34m()\u001b[0m\n\u001b[1;32m      1\u001b[0m \u001b[0mtest\u001b[0m \u001b[0;34m=\u001b[0m \u001b[0mTestUnit\u001b[0m\u001b[0;34m(\u001b[0m\u001b[0;34m)\u001b[0m \u001b[0;31m# Creates an instance of TestUnit.\u001b[0m\u001b[0;34m\u001b[0m\u001b[0m\n\u001b[0;32m----> 2\u001b[0;31m \u001b[0mtest\u001b[0m\u001b[0;34m.\u001b[0m\u001b[0mtest_wordcount\u001b[0m\u001b[0;34m(\u001b[0m\u001b[0;34m)\u001b[0m \u001b[0;31m# One of the tests we want to get done.\u001b[0m\u001b[0;34m\u001b[0m\u001b[0m\n\u001b[0m",
      "\u001b[0;32m<ipython-input-18-b0c90107ebce>\u001b[0m in \u001b[0;36mtest_wordcount\u001b[0;34m(self)\u001b[0m\n\u001b[1;32m      1\u001b[0m \u001b[0;32mclass\u001b[0m \u001b[0mTestUnit\u001b[0m\u001b[0;34m(\u001b[0m\u001b[0mTestCase\u001b[0m\u001b[0;34m)\u001b[0m\u001b[0;34m:\u001b[0m \u001b[0;31m# TestUnit inherits from TestCase\u001b[0m\u001b[0;34m\u001b[0m\u001b[0m\n\u001b[1;32m      2\u001b[0m     \u001b[0;32mdef\u001b[0m \u001b[0mtest_wordcount\u001b[0m\u001b[0;34m(\u001b[0m\u001b[0mself\u001b[0m\u001b[0;34m)\u001b[0m\u001b[0;34m:\u001b[0m\u001b[0;34m\u001b[0m\u001b[0m\n\u001b[0;32m----> 3\u001b[0;31m         \u001b[0mself\u001b[0m\u001b[0;34m.\u001b[0m\u001b[0massertDictEqual\u001b[0m\u001b[0;34m(\u001b[0m\u001b[0;34m{\u001b[0m\u001b[0;34m'foo'\u001b[0m \u001b[0;34m:\u001b[0m \u001b[0;36m1\u001b[0m\u001b[0;34m,\u001b[0m \u001b[0;34m'bar'\u001b[0m \u001b[0;34m:\u001b[0m \u001b[0;36m1\u001b[0m\u001b[0;34m}\u001b[0m\u001b[0;34m,\u001b[0m \u001b[0mCounter\u001b[0m\u001b[0;34m(\u001b[0m\u001b[0mstr\u001b[0m\u001b[0;34m.\u001b[0m\u001b[0msplit\u001b[0m\u001b[0;34m(\u001b[0m\u001b[0;34m'foo bar foo  '\u001b[0m\u001b[0;34m)\u001b[0m\u001b[0;34m)\u001b[0m\u001b[0;34m)\u001b[0m \u001b[0;31m# This two need to be equal.\u001b[0m\u001b[0;34m\u001b[0m\u001b[0m\n\u001b[0m",
      "\u001b[0;32m/Applications/anaconda3/lib/python3.6/unittest/case.py\u001b[0m in \u001b[0;36massertDictEqual\u001b[0;34m(self, d1, d2, msg)\u001b[0m\n\u001b[1;32m   1119\u001b[0m                            pprint.pformat(d2).splitlines())))\n\u001b[1;32m   1120\u001b[0m             \u001b[0mstandardMsg\u001b[0m \u001b[0;34m=\u001b[0m \u001b[0mself\u001b[0m\u001b[0;34m.\u001b[0m\u001b[0m_truncateMessage\u001b[0m\u001b[0;34m(\u001b[0m\u001b[0mstandardMsg\u001b[0m\u001b[0;34m,\u001b[0m \u001b[0mdiff\u001b[0m\u001b[0;34m)\u001b[0m\u001b[0;34m\u001b[0m\u001b[0m\n\u001b[0;32m-> 1121\u001b[0;31m             \u001b[0mself\u001b[0m\u001b[0;34m.\u001b[0m\u001b[0mfail\u001b[0m\u001b[0;34m(\u001b[0m\u001b[0mself\u001b[0m\u001b[0;34m.\u001b[0m\u001b[0m_formatMessage\u001b[0m\u001b[0;34m(\u001b[0m\u001b[0mmsg\u001b[0m\u001b[0;34m,\u001b[0m \u001b[0mstandardMsg\u001b[0m\u001b[0;34m)\u001b[0m\u001b[0;34m)\u001b[0m\u001b[0;34m\u001b[0m\u001b[0m\n\u001b[0m\u001b[1;32m   1122\u001b[0m \u001b[0;34m\u001b[0m\u001b[0m\n\u001b[1;32m   1123\u001b[0m     \u001b[0;32mdef\u001b[0m \u001b[0massertDictContainsSubset\u001b[0m\u001b[0;34m(\u001b[0m\u001b[0mself\u001b[0m\u001b[0;34m,\u001b[0m \u001b[0msubset\u001b[0m\u001b[0;34m,\u001b[0m \u001b[0mdictionary\u001b[0m\u001b[0;34m,\u001b[0m \u001b[0mmsg\u001b[0m\u001b[0;34m=\u001b[0m\u001b[0;32mNone\u001b[0m\u001b[0;34m)\u001b[0m\u001b[0;34m:\u001b[0m\u001b[0;34m\u001b[0m\u001b[0m\n",
      "\u001b[0;32m/Applications/anaconda3/lib/python3.6/unittest/case.py\u001b[0m in \u001b[0;36mfail\u001b[0;34m(self, msg)\u001b[0m\n\u001b[1;32m    668\u001b[0m     \u001b[0;32mdef\u001b[0m \u001b[0mfail\u001b[0m\u001b[0;34m(\u001b[0m\u001b[0mself\u001b[0m\u001b[0;34m,\u001b[0m \u001b[0mmsg\u001b[0m\u001b[0;34m=\u001b[0m\u001b[0;32mNone\u001b[0m\u001b[0;34m)\u001b[0m\u001b[0;34m:\u001b[0m\u001b[0;34m\u001b[0m\u001b[0m\n\u001b[1;32m    669\u001b[0m         \u001b[0;34m\"\"\"Fail immediately, with the given message.\"\"\"\u001b[0m\u001b[0;34m\u001b[0m\u001b[0m\n\u001b[0;32m--> 670\u001b[0;31m         \u001b[0;32mraise\u001b[0m \u001b[0mself\u001b[0m\u001b[0;34m.\u001b[0m\u001b[0mfailureException\u001b[0m\u001b[0;34m(\u001b[0m\u001b[0mmsg\u001b[0m\u001b[0;34m)\u001b[0m\u001b[0;34m\u001b[0m\u001b[0m\n\u001b[0m\u001b[1;32m    671\u001b[0m \u001b[0;34m\u001b[0m\u001b[0m\n\u001b[1;32m    672\u001b[0m     \u001b[0;32mdef\u001b[0m \u001b[0massertFalse\u001b[0m\u001b[0;34m(\u001b[0m\u001b[0mself\u001b[0m\u001b[0;34m,\u001b[0m \u001b[0mexpr\u001b[0m\u001b[0;34m,\u001b[0m \u001b[0mmsg\u001b[0m\u001b[0;34m=\u001b[0m\u001b[0;32mNone\u001b[0m\u001b[0;34m)\u001b[0m\u001b[0;34m:\u001b[0m\u001b[0;34m\u001b[0m\u001b[0m\n",
      "\u001b[0;31mAssertionError\u001b[0m: {'foo': 1, 'bar': 1} != Counter({'foo': 2, 'bar': 1})\n- {'bar': 1, 'foo': 1}\n+ Counter({'foo': 2, 'bar': 1})"
     ]
    }
   ],
   "source": [
    "test = TestUnit() # Creates an instance of TestUnit.\n",
    "test.test_wordcount() # One of the tests we want to get done."
   ]
  },
  {
   "cell_type": "markdown",
   "metadata": {},
   "source": [
    "Lets try this again:"
   ]
  },
  {
   "cell_type": "code",
   "execution_count": 20,
   "metadata": {},
   "outputs": [],
   "source": [
    "class TestUnit(TestCase):\n",
    "    def test_wordcount(self):\n",
    "        self.assertDictEqual({'foo' : 2, 'bar' : 1}, Counter(str.split('foo bar foo  ')))"
   ]
  },
  {
   "cell_type": "code",
   "execution_count": 21,
   "metadata": {},
   "outputs": [],
   "source": [
    "test = TestUnit()\n",
    "test.test_wordcount()"
   ]
  },
  {
   "cell_type": "markdown",
   "metadata": {},
   "source": [
    "## Profiling"
   ]
  },
  {
   "cell_type": "markdown",
   "metadata": {},
   "source": [
    "Profilers run code and give you a detailed breakdown of execution times, allowing you to identify bottlenecks in your programs."
   ]
  },
  {
   "cell_type": "markdown",
   "metadata": {},
   "source": [
    "In Donald Knuth's paper \"Structured Programming with ``go to`` Statements\", he wrote: \n",
    "> Programmers waste enormous amounts of time thinking about, or worrying about, the speed of noncritical parts of their programs, and these attempts at efficiency actually have a strong negative impact when debugging and maintenance are considered. We *should* forget about small efficiencies, say about 97% of the time: **premature optimization is the root of all evil**. Yet *we should not pass up our opportunities in that critical 3%*.\"\n",
    "\n",
    "(Ref: http://wiki.c2.com/?PrematureOptimization)"
   ]
  },
  {
   "cell_type": "markdown",
   "metadata": {},
   "source": [
    "Here are some things to have in mind:"
   ]
  },
  {
   "cell_type": "markdown",
   "metadata": {},
   "source": [
    "<ul>\n",
    "    <li>Before optimizing it, make sure your code works correctly: it is better to have correct program running slow than (subtly) incorrect program running fast!</li><br/>\n",
    "    <li>Determine if it is actually worth speeding that piece of code up.</li><br/>\n",
    "    <li>If it is, use a profiler to identify bottlenecks.</li><br/>\n",
    "    <li>You can be more productive when you write code in the highest-level language possible.</li>\n",
    "</ul>"
   ]
  },
  {
   "cell_type": "markdown",
   "metadata": {},
   "source": [
    "cProfile and profile provide deterministic profiling of Python programs. A profile is a set of statistics that describes how often and for how long various parts of the program executed. These statistics can be formatted into reports via the pstats module."
   ]
  },
  {
   "cell_type": "code",
   "execution_count": 22,
   "metadata": {},
   "outputs": [],
   "source": [
    "import cProfile"
   ]
  },
  {
   "cell_type": "code",
   "execution_count": 23,
   "metadata": {},
   "outputs": [],
   "source": [
    "def called_by_profile_command(i,y):\n",
    "    \"\"\"\"\"\"\n",
    "    lst = []\n",
    "    for j in range(y):\n",
    "        if j==i:\n",
    "            lst.append(j)\n",
    "    return lst\n",
    "            \n",
    "def profile_command(x,y):\n",
    "    \"\"\"\"\"\"\n",
    "    lst = [called_by_profile_command(i,y) for i in range(x)] # Notice this functions calls the above function.\n",
    "    output = [i[0] for i in lst if len(i)==1]\n",
    "    return output"
   ]
  },
  {
   "cell_type": "markdown",
   "metadata": {},
   "source": [
    "What is the code above doing?"
   ]
  },
  {
   "cell_type": "code",
   "execution_count": 24,
   "metadata": {},
   "outputs": [
    {
     "name": "stdout",
     "output_type": "stream",
     "text": [
      "         21 function calls in 0.000 seconds\n",
      "\n",
      "   Ordered by: standard name\n",
      "\n",
      "   ncalls  tottime  percall  cumtime  percall filename:lineno(function)\n",
      "        5    0.000    0.000    0.000    0.000 <ipython-input-23-33eb9862b3b9>:1(called_by_profile_command)\n",
      "        1    0.000    0.000    0.000    0.000 <ipython-input-23-33eb9862b3b9>:11(<listcomp>)\n",
      "        1    0.000    0.000    0.000    0.000 <ipython-input-23-33eb9862b3b9>:12(<listcomp>)\n",
      "        1    0.000    0.000    0.000    0.000 <ipython-input-23-33eb9862b3b9>:9(profile_command)\n",
      "        1    0.000    0.000    0.000    0.000 <string>:1(<module>)\n",
      "        1    0.000    0.000    0.000    0.000 {built-in method builtins.exec}\n",
      "        5    0.000    0.000    0.000    0.000 {built-in method builtins.len}\n",
      "        5    0.000    0.000    0.000    0.000 {method 'append' of 'list' objects}\n",
      "        1    0.000    0.000    0.000    0.000 {method 'disable' of '_lsprof.Profiler' objects}\n",
      "\n",
      "\n",
      "[0, 1, 2, 3, 4]\n"
     ]
    }
   ],
   "source": [
    "cProfile.run(\"result=profile_command(5,10)\")\n",
    "print(result)"
   ]
  },
  {
   "cell_type": "markdown",
   "metadata": {},
   "source": [
    "Lets now execute the function that will result in more time spent executing it:"
   ]
  },
  {
   "cell_type": "code",
   "execution_count": 25,
   "metadata": {},
   "outputs": [
    {
     "name": "stdout",
     "output_type": "stream",
     "text": [
      "         25006 function calls in 2.447 seconds\n",
      "\n",
      "   Ordered by: standard name\n",
      "\n",
      "   ncalls  tottime  percall  cumtime  percall filename:lineno(function)\n",
      "    10000    2.440    0.000    2.440    0.000 <ipython-input-23-33eb9862b3b9>:1(called_by_profile_command)\n",
      "        1    0.005    0.005    2.445    2.445 <ipython-input-23-33eb9862b3b9>:11(<listcomp>)\n",
      "        1    0.001    0.001    0.002    0.002 <ipython-input-23-33eb9862b3b9>:12(<listcomp>)\n",
      "        1    0.000    0.000    2.447    2.447 <ipython-input-23-33eb9862b3b9>:9(profile_command)\n",
      "        1    0.000    0.000    2.447    2.447 <string>:1(<module>)\n",
      "        1    0.000    0.000    2.447    2.447 {built-in method builtins.exec}\n",
      "    10000    0.001    0.000    0.001    0.000 {built-in method builtins.len}\n",
      "     5000    0.001    0.000    0.001    0.000 {method 'append' of 'list' objects}\n",
      "        1    0.000    0.000    0.000    0.000 {method 'disable' of '_lsprof.Profiler' objects}\n",
      "\n",
      "\n"
     ]
    }
   ],
   "source": [
    "cProfile.run(\"result=profile_command(10000, 5000)\")"
   ]
  },
  {
   "cell_type": "markdown",
   "metadata": {},
   "source": [
    "Lets try now a different example. It takes almost no time to run, but we can see all the calls made:"
   ]
  },
  {
   "cell_type": "code",
   "execution_count": 26,
   "metadata": {},
   "outputs": [
    {
     "name": "stdout",
     "output_type": "stream",
     "text": [
      "         199 function calls (194 primitive calls) in 0.000 seconds\n",
      "\n",
      "   Ordered by: standard name\n",
      "\n",
      "   ncalls  tottime  percall  cumtime  percall filename:lineno(function)\n",
      "        1    0.000    0.000    0.000    0.000 <string>:1(<module>)\n",
      "        4    0.000    0.000    0.000    0.000 enum.py:265(__call__)\n",
      "        4    0.000    0.000    0.000    0.000 enum.py:515(__new__)\n",
      "        2    0.000    0.000    0.000    0.000 enum.py:801(__and__)\n",
      "        1    0.000    0.000    0.000    0.000 re.py:231(compile)\n",
      "        1    0.000    0.000    0.000    0.000 re.py:286(_compile)\n",
      "        1    0.000    0.000    0.000    0.000 sre_compile.py:223(_compile_charset)\n",
      "        1    0.000    0.000    0.000    0.000 sre_compile.py:250(_optimize_charset)\n",
      "        1    0.000    0.000    0.000    0.000 sre_compile.py:414(_get_literal_prefix)\n",
      "        1    0.000    0.000    0.000    0.000 sre_compile.py:441(_get_charset_prefix)\n",
      "        1    0.000    0.000    0.000    0.000 sre_compile.py:482(_compile_info)\n",
      "        2    0.000    0.000    0.000    0.000 sre_compile.py:539(isstring)\n",
      "        1    0.000    0.000    0.000    0.000 sre_compile.py:542(_code)\n",
      "        1    0.000    0.000    0.000    0.000 sre_compile.py:557(compile)\n",
      "      3/1    0.000    0.000    0.000    0.000 sre_compile.py:64(_compile)\n",
      "        3    0.000    0.000    0.000    0.000 sre_parse.py:111(__init__)\n",
      "        5    0.000    0.000    0.000    0.000 sre_parse.py:159(__len__)\n",
      "       12    0.000    0.000    0.000    0.000 sre_parse.py:163(__getitem__)\n",
      "        7    0.000    0.000    0.000    0.000 sre_parse.py:171(append)\n",
      "      3/1    0.000    0.000    0.000    0.000 sre_parse.py:173(getwidth)\n",
      "        1    0.000    0.000    0.000    0.000 sre_parse.py:223(__init__)\n",
      "        8    0.000    0.000    0.000    0.000 sre_parse.py:232(__next)\n",
      "        2    0.000    0.000    0.000    0.000 sre_parse.py:248(match)\n",
      "        6    0.000    0.000    0.000    0.000 sre_parse.py:253(get)\n",
      "        1    0.000    0.000    0.000    0.000 sre_parse.py:285(tell)\n",
      "        1    0.000    0.000    0.000    0.000 sre_parse.py:407(_parse_sub)\n",
      "        2    0.000    0.000    0.000    0.000 sre_parse.py:470(_parse)\n",
      "        1    0.000    0.000    0.000    0.000 sre_parse.py:76(__init__)\n",
      "        2    0.000    0.000    0.000    0.000 sre_parse.py:81(groups)\n",
      "        1    0.000    0.000    0.000    0.000 sre_parse.py:828(fix_flags)\n",
      "        1    0.000    0.000    0.000    0.000 sre_parse.py:844(parse)\n",
      "        1    0.000    0.000    0.000    0.000 {built-in method _sre.compile}\n",
      "        1    0.000    0.000    0.000    0.000 {built-in method builtins.exec}\n",
      "       19    0.000    0.000    0.000    0.000 {built-in method builtins.isinstance}\n",
      "    25/24    0.000    0.000    0.000    0.000 {built-in method builtins.len}\n",
      "        2    0.000    0.000    0.000    0.000 {built-in method builtins.max}\n",
      "        9    0.000    0.000    0.000    0.000 {built-in method builtins.min}\n",
      "        6    0.000    0.000    0.000    0.000 {built-in method builtins.ord}\n",
      "       48    0.000    0.000    0.000    0.000 {method 'append' of 'list' objects}\n",
      "        1    0.000    0.000    0.000    0.000 {method 'disable' of '_lsprof.Profiler' objects}\n",
      "        5    0.000    0.000    0.000    0.000 {method 'find' of 'bytearray' objects}\n",
      "        1    0.000    0.000    0.000    0.000 {method 'items' of 'dict' objects}\n",
      "\n",
      "\n"
     ]
    }
   ],
   "source": [
    "import re\n",
    "cProfile.run('re.compile(\"foo|bar\")')"
   ]
  },
  {
   "cell_type": "markdown",
   "metadata": {},
   "source": [
    "You can also use 'Timer' for small pieces of code - we have seen examples of those in class..."
   ]
  },
  {
   "cell_type": "markdown",
   "metadata": {},
   "source": [
    "## Use modularization (DRY)"
   ]
  },
  {
   "cell_type": "markdown",
   "metadata": {},
   "source": [
    "<ul> \n",
    "    <li>Anything that is repeated in two or more places is more difficult to maintain.</li><br/>\n",
    "    <li>Every piece of data must have a single authoritative representation in the system</li><br/>\n",
    "    <ul>\n",
    "        <li>Physical constants ought to be defined exactly once.</li>\n",
    "    </ul><br/>\n",
    "    <li>Modularize code rather than copying and pasting.</li><br/>\n",
    "</ul>"
   ]
  },
  {
   "cell_type": "markdown",
   "metadata": {},
   "source": [
    "## Don't reinvent the wheel"
   ]
  },
  {
   "cell_type": "markdown",
   "metadata": {},
   "source": [
    "<p/>\n",
    "\"**Reinventing the wheel**\" is usually counter-productive and inefficient.<br/><br/>\n",
    "\"*Stand on the shoulders of giants*\"! Consider using:\n",
    "<ul>\n",
    "    <li> Standard library of your language. Chances that the language authors thought of it! </li><br/>\n",
    "    <li> Third-party libraries, especially well-known in your field (such as ``NumPy``). Chances that you are not the first person facing this problem! </li><br/>\n",
    "    <li> Specialized distributions (``Anaconda``,  ``Intel distribution for Python``).</li><br/>\n",
    "</ul>"
   ]
  },
  {
   "cell_type": "markdown",
   "metadata": {},
   "source": [
    "## Use an Interactive Development Environment (IDE)"
   ]
  },
  {
   "cell_type": "markdown",
   "metadata": {},
   "source": [
    "### Core Features"
   ]
  },
  {
   "cell_type": "markdown",
   "metadata": {},
   "source": [
    "<ul>\n",
    "  <li>Code completion</li>\n",
    "  <li>Resource management</li>\n",
    "  <li>Debugging tools</li>\n",
    "  <li>Compile and build</li>\n",
    "</ul>"
   ]
  },
  {
   "cell_type": "markdown",
   "metadata": {},
   "source": [
    "### Advantages"
   ]
  },
  {
   "cell_type": "markdown",
   "metadata": {},
   "source": [
    "<ul>\n",
    "  <li>Less time and effort</li>\n",
    "  <li>Enforce project or company standards</li>\n",
    "  <li>Project management</li>\n",
    "</ul>"
   ]
  },
  {
   "cell_type": "markdown",
   "metadata": {},
   "source": [
    "### Disadvantages"
   ]
  },
  {
   "cell_type": "markdown",
   "metadata": {},
   "source": [
    "<ul>\n",
    "  <li>Learning Curve</li>\n",
    "  <li>A sophisticated IDE may not be a good tool for beginning programmers</li>\n",
    "  <li>Will not fix bad code, practices, or design</li>\n",
    "  <li>Often heavy on resources</li>\n",
    "  <li>Enforced workflow may not be your preferred one</li>\n",
    "</ul>"
   ]
  },
  {
   "cell_type": "markdown",
   "metadata": {},
   "source": [
    "### IDEs Examples"
   ]
  },
  {
   "cell_type": "markdown",
   "metadata": {},
   "source": [
    "<ul>\n",
    "  <li>Spyder for Python applications</li>\n",
    "  <li>RStudio for R applications</li>\n",
    "  <li>Eclipse for Java applications</li>\n",
    "  <li>XCode for C++ applications</li>\n",
    "  <li>Much more...</li>\n",
    "</ul>"
   ]
  },
  {
   "cell_type": "markdown",
   "metadata": {},
   "source": [
    "## Use a Version Control System (VCS)"
   ]
  },
  {
   "cell_type": "markdown",
   "metadata": {},
   "source": [
    "<li>When working with code and data, you need to keep track of the changes and collaborate on a program or dataset.</li><br/>\n",
    "<li>Typical solutions are to email software to colleagues or to copy successive versions of it to a shared folder, e.g., Dropbox (http://www.dropbox.com) - Don't do this!</li><br/>\n",
    "<li>Use a VCS - A VCS stores snapshots of a project's files in a repository (or a set of repositories).</li><br/>\n",
    "<li>Crucially, if several people have edited files simultaneously, the VCS highlights the differences and requires them to resolve any conflicts before accepting the changes.</li><br/>\n",
    "<li>The VCS also stores the entire history of those files.</li><br/>\n",
    "<li>Many good VCS are open source and freely available:</li><br/>\n",
    "    <ul>\n",
    "        <li>Git (http://git-scm.com)</li>\n",
    "        <li>Subversion (http://subversion.apache.org)</li>\n",
    "        <li>Mercurial (http://mercurial.selenic.com)</li><br/> \n",
    "    </ul>\n",
    "<li>There are also free hosting services available:</li><br/>\n",
    "    <ul>\n",
    "        <li>GitHub (https://github.com)</li> \n",
    "        <li>GitLab (https://gitlab.com)</li> \n",
    "        <li>BitBucket (https://bitbucket.org)</li> \n",
    "    </ul>"
   ]
  },
  {
   "cell_type": "markdown",
   "metadata": {},
   "source": [
    "## The Kiss principle"
   ]
  },
  {
   "cell_type": "markdown",
   "metadata": {},
   "source": [
    "**KISS** stands for **K**eep **I**t **S**imple and **S**tupid (*figuratively speaking*!)\n",
    "<ul>\n",
    "    <li> Other conditions being equal, prefer simplicity to complexity. </li><br/>\n",
    "    <li> Do not try to be too clever. Think of other people reading your code — or of yourself 2 weeks down the road!</li><br/>\n",
    "    <li> If you think you need performance, first think again.</li><br/>\n",
    "    <li> If you do need clever tricks to achieve performance, comment and document extensively.</li><br/>\n",
    "</ul>"
   ]
  }
 ],
 "metadata": {
  "anaconda-cloud": {},
  "kernelspec": {
   "display_name": "Python 3",
   "language": "python",
   "name": "python3"
  },
  "language_info": {
   "codemirror_mode": {
    "name": "ipython",
    "version": 3
   },
   "file_extension": ".py",
   "mimetype": "text/x-python",
   "name": "python",
   "nbconvert_exporter": "python",
   "pygments_lexer": "ipython3",
   "version": "3.6.4"
  },
  "nbpresent": {
   "slides": {
    "8ce21dab-2b7a-439c-8f0a-8a1036a1ac0d": {
     "id": "8ce21dab-2b7a-439c-8f0a-8a1036a1ac0d",
     "prev": null,
     "regions": {
      "d8401624-efe9-4853-a676-de863b4ba3cd": {
       "attrs": {
        "height": 1,
        "width": 1,
        "x": 0,
        "y": 0
       },
       "id": "d8401624-efe9-4853-a676-de863b4ba3cd"
      }
     },
     "theme": null
    }
   },
   "themes": {}
  }
 },
 "nbformat": 4,
 "nbformat_minor": 1
}
